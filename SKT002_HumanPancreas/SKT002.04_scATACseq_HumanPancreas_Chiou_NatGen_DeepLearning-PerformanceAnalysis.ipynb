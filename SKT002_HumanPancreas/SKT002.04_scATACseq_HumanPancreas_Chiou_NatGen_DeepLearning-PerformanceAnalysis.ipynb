{
 "cells": [
  {
   "cell_type": "markdown",
   "metadata": {},
   "source": [
    " <font size=\"15\">\n",
    "SKT012.05.02.03_scATACseqChiouT2D_DeepLearning-PerformanceAnalysis-StrideSize50Chromosomes-OriginalParameters.ipynb\n",
    "</font> "
   ]
  },
  {
   "cell_type": "code",
   "execution_count": 1,
   "metadata": {},
   "outputs": [],
   "source": [
    "import time\n",
    "# get the start time\n",
    "StartTime = time.time()\n",
    "\n"
   ]
  },
  {
   "cell_type": "markdown",
   "metadata": {
    "tags": []
   },
   "source": [
    "# Performance Analysis"
   ]
  },
  {
   "cell_type": "markdown",
   "metadata": {
    "tags": []
   },
   "source": [
    "## Import Packages"
   ]
  },
  {
   "cell_type": "code",
   "execution_count": 2,
   "metadata": {},
   "outputs": [
    {
     "name": "stderr",
     "output_type": "stream",
     "text": [
      "Using TensorFlow backend.\n",
      "/data/leuven/332/vsc33293/miniconda/envs/Python_DeepPancreas_gpu_TF1.15/lib/python3.6/site-packages/tqdm/auto.py:22: TqdmWarning: IProgress not found. Please update jupyter and ipywidgets. See https://ipywidgets.readthedocs.io/en/stable/user_install.html\n",
      "  from .autonotebook import tqdm as notebook_tqdm\n"
     ]
    },
    {
     "name": "stdout",
     "output_type": "stream",
     "text": [
      "1.15.0\n",
      "2.2.4\n",
      "0.39.0\n"
     ]
    }
   ],
   "source": [
    "import tensorflow\n",
    "import keras\n",
    "import shap\n",
    "print(tensorflow.__version__)\n",
    "print(keras.__version__)\n",
    "print(shap.__version__)\n"
   ]
  },
  {
   "cell_type": "code",
   "execution_count": 3,
   "metadata": {},
   "outputs": [],
   "source": [
    "import sys\n",
    "import optparse\n",
    "from array import *\n",
    "\n",
    "import tensorflow\n",
    "import numpy as np\n",
    "\n",
    "import matplotlib\n",
    "#matplotlib.use('pdf')\n",
    "import matplotlib.pyplot as plt\n",
    "\n",
    "import sklearn\n",
    "from sklearn.utils import class_weight, shuffle\n",
    "from sklearn.model_selection import train_test_split\n",
    "from sklearn.metrics import average_precision_score, roc_auc_score\n",
    "\n",
    "from keras.models import Sequential\n",
    "from keras.models import model_from_json\n",
    "from keras.layers.core import Dense, Dropout, Activation, Flatten\n",
    "from keras.layers.convolutional import Conv1D, MaxPooling1D\n",
    "from keras.layers import Bidirectional, Concatenate, PReLU \n",
    "from keras.optimizers import RMSprop, Adam\n",
    "from keras.callbacks import ModelCheckpoint, EarlyStopping\n",
    "from keras import regularizers\n",
    "from keras.layers.wrappers import Bidirectional, TimeDistributed\n",
    "from keras.layers.recurrent import LSTM\n",
    "from keras.layers import Layer, average, Input\n",
    "from keras.models import Model\n",
    "from keras.utils import plot_model"
   ]
  },
  {
   "cell_type": "markdown",
   "metadata": {},
   "source": [
    "## Defining Essential Functions"
   ]
  },
  {
   "cell_type": "code",
   "execution_count": 4,
   "metadata": {},
   "outputs": [],
   "source": [
    "def get_output(input_layer, hidden_layers):\n",
    "    output = input_layer\n",
    "    for hidden_layer in hidden_layers: \n",
    "        output = hidden_layer(output)\n",
    "    return output\n",
    "\n",
    "def build_model():\n",
    "    forward_input = Input(shape=seq_shape)\n",
    "    reverse_input = Input(shape=seq_shape)\n",
    "\n",
    "    hidden_layers = [\n",
    "        Conv1D(128, kernel_size=20, padding=\"valid\", activation='relu', kernel_initializer='random_uniform'),\n",
    "        MaxPooling1D(pool_size=10, strides=10, padding='valid'),\n",
    "        Dropout(0.2),\n",
    "        TimeDistributed(Dense(128, activation='relu')),\n",
    "        Bidirectional(LSTM(128, dropout=0.1, recurrent_dropout=0.1, return_sequences=True)),\n",
    "        Dropout(0.2),\n",
    "        Flatten(),\n",
    "        Dense(256, activation='relu'),\n",
    "        Dropout(0.4),\n",
    "        Dense(len(selected_classes), activation='sigmoid')]\n",
    "    forward_output = get_output(forward_input, hidden_layers)     \n",
    "    reverse_output = get_output(reverse_input, hidden_layers)\n",
    "    output = average([forward_output, reverse_output])\n",
    "    model = Model(input=[forward_input, reverse_input], output=output)\n",
    "\n",
    "    model.summary()\n",
    "    model.compile(optimizer='adam', loss='binary_crossentropy', metrics=['accuracy'])\n",
    "    return model\n",
    "\n",
    "def readfile(filename):\n",
    "    ids = []\n",
    "    ids_d = {}\n",
    "    seqs = {}\n",
    "    classes = {}\n",
    "    f = open(filename, 'r')\n",
    "    lines = f.readlines()\n",
    "    f.close()\n",
    "    seq = []\n",
    "    for line in lines:\n",
    "        if line[0] == '>':\n",
    "            ids.append(line[1:].rstrip('\\n'))\n",
    "            if line[1:].rstrip('\\n').split('_')[0] not in seqs:\n",
    "                seqs[line[1:].rstrip('\\n').split('_')[0]] = []\n",
    "            if line[1:].rstrip('\\n').split('_')[0] not in ids_d:\n",
    "                ids_d[line[1:].rstrip('\\n').split('_')[0]] = line[1:].rstrip('\\n').split('_')[0]\n",
    "            if line[1:].rstrip('\\n').split('_')[0] not in classes:\n",
    "                classes[line[1:].rstrip('\\n').split('_')[0]] = np.zeros(NUM_CLASSES)\n",
    "            classes[line[1:].rstrip('\\n').split('_')[0]][int(line[1:].rstrip('\\n').split('_')[1])-1] = 1        \n",
    "            if seq != []: seqs[ids[-2].split('_')[0]]= (\"\".join(seq))\n",
    "            seq = []\n",
    "        else:\n",
    "            seq.append(line.rstrip('\\n').upper())\n",
    "    if seq != []:\n",
    "        seqs[ids[-1].split('_')[0]]=(\"\".join(seq))\n",
    "    return ids,ids_d,seqs,classes\n",
    "\n",
    "def one_hot_encode_along_row_axis(sequence):\n",
    "    to_return = np.zeros((1,len(sequence),4), dtype=np.int8)\n",
    "    seq_to_one_hot_fill_in_array(zeros_array=to_return[0],\n",
    "                                 sequence=sequence, one_hot_axis=1)\n",
    "    return to_return\n",
    "\n",
    "def seq_to_one_hot_fill_in_array(zeros_array, sequence, one_hot_axis):\n",
    "    assert one_hot_axis==0 or one_hot_axis==1\n",
    "    if (one_hot_axis==0):\n",
    "        assert zeros_array.shape[1] == len(sequence)\n",
    "    elif (one_hot_axis==1): \n",
    "        assert zeros_array.shape[0] == len(sequence)\n",
    "    for (i,char) in enumerate(sequence):\n",
    "        if (char==\"A\" or char==\"a\"):\n",
    "            char_idx = 0\n",
    "        elif (char==\"C\" or char==\"c\"):\n",
    "            char_idx = 1\n",
    "        elif (char==\"G\" or char==\"g\"):\n",
    "            char_idx = 2\n",
    "        elif (char==\"T\" or char==\"t\"):\n",
    "            char_idx = 3\n",
    "        elif (char==\"N\" or char==\"n\"):\n",
    "            continue\n",
    "        else:\n",
    "            raise RuntimeError(\"Unsupported character: \"+str(char))\n",
    "        if (one_hot_axis==0):\n",
    "            zeros_array[char_idx,i] = 1\n",
    "        elif (one_hot_axis==1):\n",
    "            zeros_array[i,char_idx] = 1\n",
    "\n",
    "def create_plots(history):\n",
    "    plt.plot(history.history['acc'])\n",
    "    plt.plot(history.history['val_acc'])\n",
    "    plt.title('model accuracy')\n",
    "    plt.ylabel('accuracy')\n",
    "    plt.xlabel('epoch')\n",
    "    plt.legend(['train', 'test'], loc='upper left')\n",
    "    plt.savefig(foldername + 'accuracy.png')\n",
    "    plt.clf()\n",
    "\n",
    "    plt.plot(history.history['loss'])\n",
    "    plt.plot(history.history['val_loss'])\n",
    "    plt.title('model loss')\n",
    "    plt.ylabel('loss')\n",
    "    plt.xlabel('epoch')\n",
    "    plt.legend(['train', 'test'], loc='upper left')\n",
    "    plt.savefig(foldername + 'loss.png')\n",
    "    plt.clf()\n",
    "    \n",
    "def json_hdf5_to_model(json_filename, hdf5_filename):  \n",
    "    with open(json_filename, 'r') as f:\n",
    "        model = model_from_json(f.read())\n",
    "    model.load_weights(hdf5_filename)\n",
    "    return model\n",
    "\n",
    "def loc_to_model_loss(loc):\n",
    "    return json_hdf5_to_model(loc + 'model.json', loc + 'model_best_loss.hdf5')\n",
    "\n",
    "def shuffle_label(label):\n",
    "    for i in range(len(label.T)):\n",
    "        label.T[i] = shuffle(label.T[i])\n",
    "    return label\n",
    "\n",
    "def calculate_roc_pr(score, label):\n",
    "    num_classes = label.shape[1]\n",
    "    output = np.zeros((num_classes, 2))\n",
    "    for i in range(num_classes):\n",
    "        class_label = label[:, i]\n",
    "        if len(np.unique(class_label)) > 1:  # Check if more than one class present\n",
    "            roc_ = roc_auc_score(class_label, score[:, i])\n",
    "            pr_ = average_precision_score(class_label, score[:, i])\n",
    "            output[i] = [roc_, pr_]\n",
    "    return output"
   ]
  },
  {
   "cell_type": "markdown",
   "metadata": {},
   "source": [
    "## Input Data"
   ]
  },
  {
   "cell_type": "code",
   "execution_count": 5,
   "metadata": {},
   "outputs": [
    {
     "name": "stdout",
     "output_type": "stream",
     "text": [
      "Prepare Trainingset input...\n",
      "Prepare validationset input...\n",
      "Prepare Testset input...\n"
     ]
    }
   ],
   "source": [
    "NUM_CLASSES = 97\n",
    "selected_classes = np.arange(NUM_CLASSES)\n",
    "SEQ_LEN = 500\n",
    "SEQ_DIM = 4\n",
    "seq_shape = (SEQ_LEN, SEQ_DIM)\n",
    "\n",
    "\n",
    "import os\n",
    "DeepLearningFolder = '/lustre1/project/stg_00041/SanKit/SKT012_Chiou_snATAC_Pancreas/Data/DeepLearning/'\n",
    "InputFolder = DeepLearningFolder + 'InputFileHumanPancreas/'\n",
    "TrainedModelFolder = DeepLearningFolder + 'OutputFileHumanPancreas/TrainedModelStrideSize50ChromosomesTF1_15/20230724/'\n",
    "OutputFolder = TrainedModelFolder + 'ModelPerformance/'\n",
    "os.makedirs(OutputFolder, exist_ok=True)\n",
    "\n",
    "\n",
    "\n",
    "train_filename = InputFolder + 'MergedFile_WoChr2_WoChr11_extendedStrideSize50.fa'\n",
    "valid_filename = InputFolder + 'MergedFile_Chr2.fa'\n",
    "test_filename = InputFolder + 'MergedFile_Chr11.fa'\n",
    "\n",
    "\n",
    "\n",
    "print(\"Prepare Trainingset input...\")\n",
    "train_ids, train_ids_d, train_seqs, train_classes = readfile(train_filename)\n",
    "X_train = np.array([one_hot_encode_along_row_axis(train_seqs[id]) for id in train_ids_d]).squeeze(axis=1)\n",
    "y_train = np.array([train_classes[id] for id in train_ids_d])\n",
    "y_train = y_train[:,selected_classes]\n",
    "X_train = X_train[y_train.sum(axis=1)>0]\n",
    "y_train = y_train[y_train.sum(axis=1)>0]\n",
    "X_train_rc = X_train[:,::-1,::-1]\n",
    "train_data = [X_train, X_train_rc]\n",
    "\n",
    "print(\"Prepare validationset input...\")\n",
    "valid_ids, valid_ids_d, valid_seqs, valid_classes = readfile(valid_filename)\n",
    "X_valid = np.array([one_hot_encode_along_row_axis(valid_seqs[id]) for id in valid_ids_d]).squeeze(axis=1)\n",
    "y_valid = np.array([valid_classes[id] for id in valid_ids_d])\n",
    "y_valid = y_valid[:,selected_classes]\n",
    "X_valid = X_valid[y_valid.sum(axis=1)>0]\n",
    "y_valid = y_valid[y_valid.sum(axis=1)>0]\n",
    "X_valid_rc = X_valid[:,::-1,::-1]\n",
    "valid_data = [X_valid, X_valid_rc]\n",
    "\n",
    "\n",
    "print(\"Prepare Testset input...\")\n",
    "\n",
    "test_ids, test_ids_d, test_seqs, test_classes = readfile(test_filename)\n",
    "X_test = np.array([one_hot_encode_along_row_axis(test_seqs[id]) for id in test_ids_d]).squeeze(axis=1)\n",
    "y_test = np.array([test_classes[id] for id in test_ids_d])\n",
    "y_test = y_test[:,selected_classes]\n",
    "X_test = X_test[y_test.sum(axis=1)>0]\n",
    "y_test = y_test[y_test.sum(axis=1)>0]\n",
    "X_test_rc = X_test[:,::-1,::-1]\n",
    "test_data = [X_test, X_test_rc]"
   ]
  },
  {
   "cell_type": "markdown",
   "metadata": {},
   "source": [
    "## Loading the trained DeepPancreas Model"
   ]
  },
  {
   "cell_type": "code",
   "execution_count": 6,
   "metadata": {
    "tags": []
   },
   "outputs": [
    {
     "name": "stdout",
     "output_type": "stream",
     "text": [
      "WARNING:tensorflow:From /data/leuven/332/vsc33293/miniconda/envs/Python_DeepPancreas_gpu_TF1.15/lib/python3.6/site-packages/keras/backend/tensorflow_backend.py:517: The name tf.placeholder is deprecated. Please use tf.compat.v1.placeholder instead.\n",
      "\n",
      "WARNING:tensorflow:From /data/leuven/332/vsc33293/miniconda/envs/Python_DeepPancreas_gpu_TF1.15/lib/python3.6/site-packages/keras/backend/tensorflow_backend.py:74: The name tf.get_default_graph is deprecated. Please use tf.compat.v1.get_default_graph instead.\n",
      "\n",
      "WARNING:tensorflow:From /data/leuven/332/vsc33293/miniconda/envs/Python_DeepPancreas_gpu_TF1.15/lib/python3.6/site-packages/keras/backend/tensorflow_backend.py:4138: The name tf.random_uniform is deprecated. Please use tf.random.uniform instead.\n",
      "\n",
      "WARNING:tensorflow:From /data/leuven/332/vsc33293/miniconda/envs/Python_DeepPancreas_gpu_TF1.15/lib/python3.6/site-packages/keras/backend/tensorflow_backend.py:3976: The name tf.nn.max_pool is deprecated. Please use tf.nn.max_pool2d instead.\n",
      "\n",
      "WARNING:tensorflow:From /data/leuven/332/vsc33293/miniconda/envs/Python_DeepPancreas_gpu_TF1.15/lib/python3.6/site-packages/keras/backend/tensorflow_backend.py:133: The name tf.placeholder_with_default is deprecated. Please use tf.compat.v1.placeholder_with_default instead.\n",
      "\n",
      "WARNING:tensorflow:From /data/leuven/332/vsc33293/miniconda/envs/Python_DeepPancreas_gpu_TF1.15/lib/python3.6/site-packages/keras/backend/tensorflow_backend.py:3445: calling dropout (from tensorflow.python.ops.nn_ops) with keep_prob is deprecated and will be removed in a future version.\n",
      "Instructions for updating:\n",
      "Please use `rate` instead of `keep_prob`. Rate should be set to `rate = 1 - keep_prob`.\n",
      "WARNING:tensorflow:From /data/leuven/332/vsc33293/miniconda/envs/Python_DeepPancreas_gpu_TF1.15/lib/python3.6/site-packages/keras/backend/tensorflow_backend.py:174: The name tf.get_default_session is deprecated. Please use tf.compat.v1.get_default_session instead.\n",
      "\n",
      "WARNING:tensorflow:From /data/leuven/332/vsc33293/miniconda/envs/Python_DeepPancreas_gpu_TF1.15/lib/python3.6/site-packages/keras/backend/tensorflow_backend.py:181: The name tf.ConfigProto is deprecated. Please use tf.compat.v1.ConfigProto instead.\n",
      "\n",
      "WARNING:tensorflow:From /data/leuven/332/vsc33293/miniconda/envs/Python_DeepPancreas_gpu_TF1.15/lib/python3.6/site-packages/keras/backend/tensorflow_backend.py:186: The name tf.Session is deprecated. Please use tf.compat.v1.Session instead.\n",
      "\n",
      "WARNING:tensorflow:From /data/leuven/332/vsc33293/miniconda/envs/Python_DeepPancreas_gpu_TF1.15/lib/python3.6/site-packages/keras/backend/tensorflow_backend.py:190: The name tf.global_variables is deprecated. Please use tf.compat.v1.global_variables instead.\n",
      "\n",
      "WARNING:tensorflow:From /data/leuven/332/vsc33293/miniconda/envs/Python_DeepPancreas_gpu_TF1.15/lib/python3.6/site-packages/keras/backend/tensorflow_backend.py:199: The name tf.is_variable_initialized is deprecated. Please use tf.compat.v1.is_variable_initialized instead.\n",
      "\n",
      "WARNING:tensorflow:From /data/leuven/332/vsc33293/miniconda/envs/Python_DeepPancreas_gpu_TF1.15/lib/python3.6/site-packages/keras/backend/tensorflow_backend.py:206: The name tf.variables_initializer is deprecated. Please use tf.compat.v1.variables_initializer instead.\n",
      "\n"
     ]
    }
   ],
   "source": [
    "trained_model = loc_to_model_loss(TrainedModelFolder)"
   ]
  },
  {
   "cell_type": "code",
   "execution_count": 8,
   "metadata": {},
   "outputs": [
    {
     "name": "stdout",
     "output_type": "stream",
     "text": [
      "__________________________________________________________________________________________________\n",
      "Layer (type)                    Output Shape         Param #     Connected to                     \n",
      "==================================================================================================\n",
      "input_1 (InputLayer)            (None, 500, 4)       0                                            \n",
      "__________________________________________________________________________________________________\n",
      "input_2 (InputLayer)            (None, 500, 4)       0                                            \n",
      "__________________________________________________________________________________________________\n",
      "conv1d_1 (Conv1D)               (None, 481, 128)     10368       input_1[0][0]                    \n",
      "                                                                 input_2[0][0]                    \n",
      "__________________________________________________________________________________________________\n",
      "max_pooling1d_1 (MaxPooling1D)  (None, 48, 128)      0           conv1d_1[0][0]                   \n",
      "                                                                 conv1d_1[1][0]                   \n",
      "__________________________________________________________________________________________________\n",
      "dropout_1 (Dropout)             (None, 48, 128)      0           max_pooling1d_1[0][0]            \n",
      "                                                                 max_pooling1d_1[1][0]            \n",
      "__________________________________________________________________________________________________\n",
      "time_distributed_1 (TimeDistrib (None, 48, 128)      16512       dropout_1[0][0]                  \n",
      "                                                                 dropout_1[1][0]                  \n",
      "__________________________________________________________________________________________________\n",
      "bidirectional_1 (Bidirectional) (None, 48, 256)      263168      time_distributed_1[0][0]         \n",
      "                                                                 time_distributed_1[1][0]         \n",
      "__________________________________________________________________________________________________\n",
      "dropout_2 (Dropout)             (None, 48, 256)      0           bidirectional_1[0][0]            \n",
      "                                                                 bidirectional_1[1][0]            \n",
      "__________________________________________________________________________________________________\n",
      "flatten_1 (Flatten)             (None, 12288)        0           dropout_2[0][0]                  \n",
      "                                                                 dropout_2[1][0]                  \n",
      "__________________________________________________________________________________________________\n",
      "dense_2 (Dense)                 (None, 256)          3145984     flatten_1[0][0]                  \n",
      "                                                                 flatten_1[1][0]                  \n",
      "__________________________________________________________________________________________________\n",
      "dropout_3 (Dropout)             (None, 256)          0           dense_2[0][0]                    \n",
      "                                                                 dense_2[1][0]                    \n",
      "__________________________________________________________________________________________________\n",
      "dense_3 (Dense)                 (None, 97)           24929       dropout_3[0][0]                  \n",
      "                                                                 dropout_3[1][0]                  \n",
      "__________________________________________________________________________________________________\n",
      "average_1 (Average)             (None, 97)           0           dense_3[0][0]                    \n",
      "                                                                 dense_3[1][0]                    \n",
      "==================================================================================================\n",
      "Total params: 3,460,961\n",
      "Trainable params: 3,460,961\n",
      "Non-trainable params: 0\n",
      "__________________________________________________________________________________________________\n"
     ]
    }
   ],
   "source": [
    "trained_model.summary()"
   ]
  },
  {
   "cell_type": "markdown",
   "metadata": {},
   "source": [
    "## Plotting and saving auROC and auPR values"
   ]
  },
  {
   "cell_type": "code",
   "execution_count": 9,
   "metadata": {},
   "outputs": [
    {
     "name": "stdout",
     "output_type": "stream",
     "text": [
      "calculate roc and pr...\n"
     ]
    }
   ],
   "source": [
    "print('calculate roc and pr...')\n",
    "roc_pr_dict = {\"train\": {}, \"valid\":{}, \"test\": {}, \"shuffle\": {}}"
   ]
  },
  {
   "cell_type": "code",
   "execution_count": 10,
   "metadata": {},
   "outputs": [],
   "source": [
    "roc_pr_dict[\"train\"][\"score\"] = trained_model.predict(train_data)\n",
    "roc_pr_dict[\"train\"][\"label\"] = y_train"
   ]
  },
  {
   "cell_type": "code",
   "execution_count": 11,
   "metadata": {},
   "outputs": [],
   "source": [
    "roc_pr_dict[\"valid\"][\"score\"] = trained_model.predict(valid_data)\n",
    "roc_pr_dict[\"valid\"][\"label\"] = y_valid"
   ]
  },
  {
   "cell_type": "code",
   "execution_count": 12,
   "metadata": {},
   "outputs": [],
   "source": [
    "roc_pr_dict[\"test\"][\"score\"] = trained_model.predict(test_data)\n",
    "roc_pr_dict[\"test\"][\"label\"] = y_test"
   ]
  },
  {
   "cell_type": "code",
   "execution_count": 13,
   "metadata": {},
   "outputs": [],
   "source": [
    "roc_pr_dict[\"shuffle\"][\"score\"] = np.array(roc_pr_dict[\"train\"][\"score\"], copy=True)\n",
    "roc_pr_dict[\"shuffle\"][\"label\"] = shuffle_label(np.array(y_train, copy=True))"
   ]
  },
  {
   "cell_type": "code",
   "execution_count": 14,
   "metadata": {},
   "outputs": [],
   "source": [
    "for sets in [\"train\", \"valid\", \"test\", \"shuffle\"]:\n",
    "    roc_pr_dict[sets][\"roc_pr\"] = calculate_roc_pr(roc_pr_dict[sets][\"score\"], roc_pr_dict[sets][\"label\"])"
   ]
  },
  {
   "cell_type": "code",
   "execution_count": 15,
   "metadata": {},
   "outputs": [
    {
     "name": "stdout",
     "output_type": "stream",
     "text": [
      "calculate roc and pr...\n"
     ]
    }
   ],
   "source": [
    "print('calculate roc and pr...')\n",
    "roc_pr_dict = {\"train\": {}, \"valid\": {}, \"test\": {}, \"shuffle\": {}}\n",
    "roc_pr_dict[\"train\"][\"score\"] = trained_model.predict(train_data)\n",
    "roc_pr_dict[\"train\"][\"label\"] = y_train\n",
    "roc_pr_dict[\"valid\"][\"score\"] = trained_model.predict(valid_data)\n",
    "roc_pr_dict[\"valid\"][\"label\"] = y_valid\n",
    "roc_pr_dict[\"test\"][\"score\"] = trained_model.predict(test_data)\n",
    "roc_pr_dict[\"test\"][\"label\"] = y_test\n",
    "roc_pr_dict[\"shuffle\"][\"score\"] = np.array(roc_pr_dict[\"train\"][\"score\"], copy=True)\n",
    "roc_pr_dict[\"shuffle\"][\"label\"] = shuffle_label(np.array(y_train, copy=True))\n",
    "\n",
    "for sets in [\"train\", \"valid\", \"test\", \"shuffle\"]:\n",
    "    roc_pr_dict[sets][\"roc_pr\"] = calculate_roc_pr(roc_pr_dict[sets][\"score\"], roc_pr_dict[sets][\"label\"])"
   ]
  },
  {
   "cell_type": "code",
   "execution_count": 16,
   "metadata": {},
   "outputs": [
    {
     "data": {
      "image/png": "[encoded data removed]",
      "text/plain": [
       "<Figure size 1800x720 with 2 Axes>"
      ]
     },
     "metadata": {
      "needs_background": "light"
     },
     "output_type": "display_data"
    }
   ],
   "source": [
    "fig = plt.figure(figsize=(25, 10))\n",
    "\n",
    "ax = fig.add_subplot(2, 1, 1)\n",
    "ax.set_ylabel('auROC')\n",
    "ax.scatter(selected_classes, roc_pr_dict[\"train\"][\"roc_pr\"].T[0], color='red', label='TRAIN')\n",
    "ax.scatter(selected_classes, roc_pr_dict[\"valid\"][\"roc_pr\"].T[0], color='green', label='VALID')\n",
    "ax.scatter(selected_classes, roc_pr_dict[\"test\"][\"roc_pr\"].T[0], color='blue', label='TEST')\n",
    "ax.scatter(selected_classes, roc_pr_dict[\"shuffle\"][\"roc_pr\"].T[0], color='gray', label='SHUFFLED')\n",
    "ax.set_ylim([0, 1])\n",
    "_ = plt.xticks(range(len(selected_classes)),range(1,len(selected_classes)+1))\n",
    "ax.legend()\n",
    "\n",
    "ax = fig.add_subplot(2, 1, 2)\n",
    "ax.set_ylabel('auPR')\n",
    "ax.scatter(selected_classes, roc_pr_dict[\"train\"][\"roc_pr\"].T[1], color='red', label='TRAIN')\n",
    "ax.scatter(selected_classes, roc_pr_dict[\"valid\"][\"roc_pr\"].T[1], color='green', label='VALID')\n",
    "ax.scatter(selected_classes, roc_pr_dict[\"test\"][\"roc_pr\"].T[1], color='blue', label='TEST')\n",
    "ax.scatter(selected_classes, roc_pr_dict[\"shuffle\"][\"roc_pr\"].T[1], color='gray', label='SHUFFLED')\n",
    "ax.set_ylim([0, 1])\n",
    "_ = plt.xticks(range(len(selected_classes)),range(1,len(selected_classes)+1))\n",
    "\n",
    "plt.savefig(OutputFolder + 'Train_Valid_Test-auROC_auPR.png')"
   ]
  },
  {
   "cell_type": "code",
   "execution_count": 22,
   "metadata": {},
   "outputs": [
    {
     "data": {
      "image/png": "[encoded data removed]",
      "text/plain": [
       "<Figure size 2160x720 with 2 Axes>"
      ]
     },
     "metadata": {
      "needs_background": "light"
     },
     "output_type": "display_data"
    }
   ],
   "source": [
    "# plot auROC and auPR values\n",
    "\n",
    "fig = plt.figure(figsize=(30, 10))\n",
    "ax = fig.add_subplot(2, 1, 1)\n",
    "ax.set_ylabel('auROC')\n",
    "ax.scatter(list(range(NUM_CLASSES)), roc_pr_dict[\"train\"][\"roc_pr\"].T[0], color='red', label='TRAIN')\n",
    "ax.scatter(list(range(NUM_CLASSES)), roc_pr_dict[\"test\"][\"roc_pr\"].T[0], color='blue', label='TEST')\n",
    "ax.scatter(list(range(NUM_CLASSES)), roc_pr_dict[\"shuffle\"][\"roc_pr\"].T[0], color='gray', label='SHUFFLED')\n",
    "ax.set_ylim([0, 1])\n",
    "_ = plt.xticks(range(len(selected_classes)),range(1,len(selected_classes)+1))\n",
    "ax.legend()\n",
    "\n",
    "ax = fig.add_subplot(2, 1, 2)\n",
    "ax.set_ylabel('auPR')\n",
    "ax.scatter(list(range(NUM_CLASSES)), roc_pr_dict[\"train\"][\"roc_pr\"].T[1], color='red', label='TRAIN')\n",
    "ax.scatter(list(range(NUM_CLASSES)), roc_pr_dict[\"test\"][\"roc_pr\"].T[1], color='blue', label='TEST')\n",
    "ax.scatter(list(range(NUM_CLASSES)), roc_pr_dict[\"shuffle\"][\"roc_pr\"].T[1], color='gray', label='SHUFFLED')\n",
    "ax.set_ylim([0, 1])\n",
    "_ = plt.xticks(range(len(selected_classes)),range(1,len(selected_classes)+1))\n",
    "\n",
    "plt.savefig(OutputFolder + 'auROC_auPR.png')"
   ]
  },
  {
   "cell_type": "code",
   "execution_count": 18,
   "metadata": {},
   "outputs": [],
   "source": [
    "# Define the values for each group data\n",
    "\n",
    "Topics = np.arange(NUM_CLASSES)\n",
    "ROC_Train = roc_pr_dict[\"train\"][\"roc_pr\"].T[0]\n",
    "ROC_Test = roc_pr_dict[\"test\"][\"roc_pr\"].T[0]\n",
    "ROC_Shuffle = roc_pr_dict[\"shuffle\"][\"roc_pr\"].T[0]\n",
    "PR_train = roc_pr_dict[\"train\"][\"roc_pr\"].T[1]\n",
    "PR_Test = roc_pr_dict[\"test\"][\"roc_pr\"].T[1]\n",
    "PR_Shuffle = roc_pr_dict[\"shuffle\"][\"roc_pr\"].T[1]\n"
   ]
  },
  {
   "cell_type": "code",
   "execution_count": 19,
   "metadata": {},
   "outputs": [
    {
     "name": "stdout",
     "output_type": "stream",
     "text": [
      "Reject null hypothesis for ROC, the means are different\n",
      "Fail to reject null hypothesis for PR, the means are not different\n"
     ]
    }
   ],
   "source": [
    "from scipy.stats import ttest_rel\n",
    "alpha = 0.05\n",
    "\n",
    "ttest_roc, p_value_roc = ttest_rel(ROC_Train, ROC_Test)\n",
    "if p_value_roc < alpha:\n",
    "    print(\"Reject null hypothesis for ROC, the means are different\")\n",
    "else:\n",
    "    print(\"Fail to reject null hypothesis for ROC, the means are not different\")\n",
    "\n",
    "ttest_pr, p_value_pr = ttest_rel(PR_train, PR_Test)\n",
    "if p_value_pr < alpha:\n",
    "    print(\"Reject null hypothesis for PR, the means are different\")\n",
    "else:\n",
    "    print(\"Fail to reject null hypothesis for PR, the means are not different\")\n"
   ]
  },
  {
   "cell_type": "code",
   "execution_count": 20,
   "metadata": {},
   "outputs": [
    {
     "name": "stdout",
     "output_type": "stream",
     "text": [
      "    Topics  ROC_Train  ROC_Test  ROC_Shuffle  PR_Train   PR_Test  PR_Shuffle\n",
      "0      0.0   0.860666  0.824809     0.499751  0.201070  0.109765    0.028700\n",
      "1      1.0   0.940073  0.920103     0.499055  0.397472  0.484272    0.032467\n",
      "2      2.0   0.886039  0.887899     0.500355  0.193776  0.186627    0.027925\n",
      "3      3.0   0.704270  0.690223     0.495523  0.083566  0.074110    0.037792\n",
      "4      4.0   0.778604  0.778055     0.501089  0.129397  0.169134    0.037346\n",
      "..     ...        ...       ...          ...       ...       ...         ...\n",
      "92    92.0   0.824510  0.826801     0.499961  0.193951  0.253074    0.037419\n",
      "93    93.0   0.853104  0.868381     0.501249  0.251467  0.305461    0.040248\n",
      "94    94.0   0.920758  0.909694     0.502989  0.282398  0.157955    0.029725\n",
      "95    95.0   0.859718  0.841461     0.496398  0.200411  0.184598    0.033261\n",
      "96    96.0   0.766034  0.759464     0.500752  0.105306  0.243671    0.032957\n",
      "\n",
      "[97 rows x 7 columns]\n"
     ]
    }
   ],
   "source": [
    "# Save auROC and auPR values in csv-file\n",
    "\n",
    "import numpy as np\n",
    "import pandas as pd\n",
    "\n",
    "header = ['Topics', 'ROC_Train', 'ROC_Test', 'ROC_Shuffle', 'PR_Train', 'PR_Test', 'PR_Shuffle']\n",
    "stack = np.stack((Topics, ROC_Train, ROC_Test, ROC_Shuffle, PR_train, PR_Test, PR_Shuffle), axis = 1)\n",
    "df = pd.DataFrame(stack, columns=header)\n",
    "print(df)\n",
    "df.to_csv(OutputFolder + 'auROC_auPR.csv', header=True, sep=' ')"
   ]
  },
  {
   "cell_type": "markdown",
   "metadata": {},
   "source": [
    "## Print Execution time"
   ]
  },
  {
   "cell_type": "code",
   "execution_count": 21,
   "metadata": {},
   "outputs": [
    {
     "name": "stdout",
     "output_type": "stream",
     "text": [
      "Execution time: 1546.323371887207 seconds\n",
      "Execution time: 25.77205619812012 minutes\n",
      "Execution time: 00:25:46\n"
     ]
    }
   ],
   "source": [
    "# get the execution time\n",
    "EndTime = time.time()\n",
    "elapsed_time = EndTime - StartTime\n",
    "print('Execution time:', elapsed_time, 'seconds')\n",
    "Minutes = elapsed_time / 60\n",
    "print('Execution time:', Minutes, 'minutes')\n",
    "print('Execution time:', time.strftime(\"%H:%M:%S\", time.gmtime(elapsed_time)))"
   ]
  },
  {
   "cell_type": "code",
   "execution_count": null,
   "metadata": {},
   "outputs": [],
   "source": []
  }
 ],
 "metadata": {
  "kernelspec": {
   "display_name": "Python [conda env:Python_DeepPancreas_gpu_TF1.15]",
   "language": "python",
   "name": "conda-env-Python_DeepPancreas_gpu_TF1.15-py"
  },
  "language_info": {
   "codemirror_mode": {
    "name": "ipython",
    "version": 3
   },
   "file_extension": ".py",
   "mimetype": "text/x-python",
   "name": "python",
   "nbconvert_exporter": "python",
   "pygments_lexer": "ipython3",
   "version": "3.6.13"
  },
  "toc-autonumbering": true,
  "toc-showcode": false
 },
 "nbformat": 4,
 "nbformat_minor": 4
}
